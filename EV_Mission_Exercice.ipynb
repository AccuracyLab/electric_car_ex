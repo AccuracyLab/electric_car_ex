{
 "cells": [
  {
   "cell_type": "code",
   "execution_count": 1,
   "id": "13d14e4bb98b03b6",
   "metadata": {
    "ExecuteTime": {
     "start_time": "2024-10-22T12:59:30.793569Z"
    },
    "collapsed": false,
    "jupyter": {
     "is_executing": true,
     "outputs_hidden": false
    }
   },
   "outputs": [
    {
     "name": "stdout",
     "output_type": "stream",
     "text": [
      "Looking in indexes: https://pypi.org/simple, https://pypi.ngc.nvidia.com\n",
      "Requirement already satisfied: pandas in c:\\users\\tristan\\pycharmprojects\\electric_car_ex\\.venv\\lib\\site-packages (2.2.3)\n",
      "Requirement already satisfied: matplotlib in c:\\users\\tristan\\pycharmprojects\\electric_car_ex\\.venv\\lib\\site-packages (3.9.2)\n",
      "Requirement already satisfied: scikit-learn in c:\\users\\tristan\\pycharmprojects\\electric_car_ex\\.venv\\lib\\site-packages (1.5.2)\n",
      "Requirement already satisfied: xgboost in c:\\users\\tristan\\pycharmprojects\\electric_car_ex\\.venv\\lib\\site-packages (2.1.1)\n",
      "Requirement already satisfied: numpy>=1.22.4 in c:\\users\\tristan\\pycharmprojects\\electric_car_ex\\.venv\\lib\\site-packages (from pandas) (2.0.2)\n",
      "Requirement already satisfied: python-dateutil>=2.8.2 in c:\\users\\tristan\\pycharmprojects\\electric_car_ex\\.venv\\lib\\site-packages (from pandas) (2.9.0.post0)\n",
      "Requirement already satisfied: pytz>=2020.1 in c:\\users\\tristan\\pycharmprojects\\electric_car_ex\\.venv\\lib\\site-packages (from pandas) (2024.2)\n",
      "Requirement already satisfied: tzdata>=2022.7 in c:\\users\\tristan\\pycharmprojects\\electric_car_ex\\.venv\\lib\\site-packages (from pandas) (2024.2)\n",
      "Requirement already satisfied: contourpy>=1.0.1 in c:\\users\\tristan\\pycharmprojects\\electric_car_ex\\.venv\\lib\\site-packages (from matplotlib) (1.3.0)\n",
      "Requirement already satisfied: cycler>=0.10 in c:\\users\\tristan\\pycharmprojects\\electric_car_ex\\.venv\\lib\\site-packages (from matplotlib) (0.12.1)\n",
      "Requirement already satisfied: fonttools>=4.22.0 in c:\\users\\tristan\\pycharmprojects\\electric_car_ex\\.venv\\lib\\site-packages (from matplotlib) (4.54.1)\n",
      "Requirement already satisfied: kiwisolver>=1.3.1 in c:\\users\\tristan\\pycharmprojects\\electric_car_ex\\.venv\\lib\\site-packages (from matplotlib) (1.4.7)\n",
      "Requirement already satisfied: packaging>=20.0 in c:\\users\\tristan\\pycharmprojects\\electric_car_ex\\.venv\\lib\\site-packages (from matplotlib) (24.1)\n",
      "Requirement already satisfied: pillow>=8 in c:\\users\\tristan\\pycharmprojects\\electric_car_ex\\.venv\\lib\\site-packages (from matplotlib) (11.0.0)\n",
      "Requirement already satisfied: pyparsing>=2.3.1 in c:\\users\\tristan\\pycharmprojects\\electric_car_ex\\.venv\\lib\\site-packages (from matplotlib) (3.2.0)\n",
      "Requirement already satisfied: importlib-resources>=3.2.0 in c:\\users\\tristan\\pycharmprojects\\electric_car_ex\\.venv\\lib\\site-packages (from matplotlib) (6.4.5)\n",
      "Requirement already satisfied: scipy>=1.6.0 in c:\\users\\tristan\\pycharmprojects\\electric_car_ex\\.venv\\lib\\site-packages (from scikit-learn) (1.13.1)\n",
      "Requirement already satisfied: joblib>=1.2.0 in c:\\users\\tristan\\pycharmprojects\\electric_car_ex\\.venv\\lib\\site-packages (from scikit-learn) (1.4.2)\n",
      "Requirement already satisfied: threadpoolctl>=3.1.0 in c:\\users\\tristan\\pycharmprojects\\electric_car_ex\\.venv\\lib\\site-packages (from scikit-learn) (3.5.0)\n",
      "Requirement already satisfied: zipp>=3.1.0 in c:\\users\\tristan\\pycharmprojects\\electric_car_ex\\.venv\\lib\\site-packages (from importlib-resources>=3.2.0->matplotlib) (3.20.2)\n",
      "Requirement already satisfied: six>=1.5 in c:\\users\\tristan\\pycharmprojects\\electric_car_ex\\.venv\\lib\\site-packages (from python-dateutil>=2.8.2->pandas) (1.16.0)\n"
     ]
    },
    {
     "name": "stderr",
     "output_type": "stream",
     "text": [
      "\n",
      "[notice] A new release of pip is available: 23.3.1 -> 24.2\n",
      "[notice] To update, run: python.exe -m pip install --upgrade pip\n"
     ]
    }
   ],
   "source": [
    "import sys\n",
    "\n",
    "# Install a pip package in the current Jupyter kernel\n",
    "!{sys.executable} -m pip install pandas matplotlib scikit-learn xgboost\n",
    "\n",
    "# Install a conda package in the current Jupyter kernel\n",
    "#!conda install --yes --prefix {sys.prefix} pandas matplotlib scikit-learn xgboost"
   ]
  },
  {
   "cell_type": "code",
   "execution_count": 2,
   "id": "initial_id",
   "metadata": {
    "collapsed": false,
    "jupyter": {
     "outputs_hidden": false
    }
   },
   "outputs": [],
   "source": [
    "import pandas as pd\n",
    "\n",
    "from electric_cars.view import plot_column\n",
    "from electric_cars.utils import load_data, preview_table, describe_column, fit_predicting_model, make_prediction, stack_tables, join_tables, apply_calculation_to_row, aggregate_sum\n",
    "\n",
    "pd.set_option('display.max_columns', None)\n",
    "pd.set_option('display.max_rows', None)"
   ]
  },
  {
   "cell_type": "markdown",
   "id": "b4907b728bb22e56",
   "metadata": {
    "collapsed": false,
    "jupyter": {
     "outputs_hidden": false
    }
   },
   "source": [
    "# Assumptions\n",
    "\n",
    "Here are some key assumptions that you may potentially need for the modeling:\n",
    "- In France, about 20% of the electric vehicle charging needs are covered through home charging outlets.\n",
    "- Vehicle traffic in France is heavily dependent on the time of day. It can be considered that it is doubled during the following time slots: 6:30-9:30, 12:00-14:00, 16:30-19:30.\n",
    "- There is no competition between the various players on the selling price of electricity.\n",
    "- The average speed for a home - work journey is 45 km/h (about 28 mph).\n",
    "- The choice of charging stations in an area does not depend on the characteristics of the available stations.\n",
    "- A French person uses their car on average 4 times a week."
   ]
  },
  {
   "cell_type": "markdown",
   "id": "187ce57c19ec7ee4",
   "metadata": {
    "collapsed": false,
    "jupyter": {
     "outputs_hidden": false
    }
   },
   "source": [
    "# Available functions\n",
    "\n",
    "Here is the list of functions made available to you:\n",
    "- `load_data()`: loads the data from the csv files\n",
    "- `preview_table(table)`: prints the first 5 rows of the table\n",
    "- `describe_column(table, column_name)`: prints the description of the column\n",
    "- `plot_column(table, column_name, zone_name)`: plots column_name for zone_name\n",
    "- `fit_predicting_model(table, features, target, per_zone, model_type)`: fits a model on the table and returns it. The available model_types are \"linear_regression\", \"decision_tree\", \"xgboost\". per_zone = True will fit one independent model per zone while per_zone = False will fit the same model on all zones.\n",
    "- `make_prediction(table, features, target, per_zone, model)`: makes a prediction on the table using the model. per_zone = True if you fitted independent models per zone, else False.\n",
    "- `stack_tables(table_1, table_2, stack_type)`: stacks table_1 and table_2 either vertically or horizontally. Stack_type can be \"vertical\" or \"horizontal\".\n",
    "- `join_tables(table_1, table_2, join_key, join_type)`: joins table_1 and table_2 on the join_key. Join_type can be \"left\", \"right\", \"outer\" or \"inner\".\n",
    "- `apply_calculation_to_row(table, new_column_name, function, columns)`: applies the function to the columns and creates a new column named new_column_name\n",
    "- `aggregate_sum(table, column_name, new_column_name)`: aggregates the column_name by summing it and creates a new column named new_column_name"
   ]
  },
  {
   "cell_type": "markdown",
   "id": "7ef04829719c452f",
   "metadata": {
    "collapsed": false,
    "jupyter": {
     "outputs_hidden": false
    }
   },
   "source": [
    "# 0. Loading data"
   ]
  },
  {
   "cell_type": "code",
   "execution_count": 3,
   "id": "46293d1f7f3e9219",
   "metadata": {
    "collapsed": false,
    "jupyter": {
     "outputs_hidden": false
    }
   },
   "outputs": [],
   "source": [
    "table_1, table_2, table_3, table_4, table_5 = load_data()"
   ]
  },
  {
   "cell_type": "markdown",
   "id": "156038df78922695",
   "metadata": {
    "collapsed": false,
    "jupyter": {
     "outputs_hidden": false
    }
   },
   "source": [
    "# I. Data exploration\n"
   ]
  },
  {
   "cell_type": "code",
   "execution_count": 4,
   "id": "7f5e21f67da5090b",
   "metadata": {
    "collapsed": false,
    "jupyter": {
     "outputs_hidden": false
    }
   },
   "outputs": [
    {
     "data": {
      "text/html": [
       "<div>\n",
       "<style scoped>\n",
       "    .dataframe tbody tr th:only-of-type {\n",
       "        vertical-align: middle;\n",
       "    }\n",
       "\n",
       "    .dataframe tbody tr th {\n",
       "        vertical-align: top;\n",
       "    }\n",
       "\n",
       "    .dataframe thead th {\n",
       "        text-align: right;\n",
       "    }\n",
       "</style>\n",
       "<table border=\"1\" class=\"dataframe\">\n",
       "  <thead>\n",
       "    <tr style=\"text-align: right;\">\n",
       "      <th></th>\n",
       "      <th>Date</th>\n",
       "      <th>Zone Name</th>\n",
       "      <th>Rainy Day</th>\n",
       "      <th>Population</th>\n",
       "      <th>Median Salary (EUR)</th>\n",
       "      <th>Shops per 1k hab</th>\n",
       "      <th>Hospitals per 1M hab</th>\n",
       "      <th>Childcare per 100 children under 3 y.o.</th>\n",
       "      <th>Public_Transport_Quality</th>\n",
       "      <th>Infrastructure_Quality</th>\n",
       "      <th>Traffic</th>\n",
       "      <th>weekend</th>\n",
       "    </tr>\n",
       "  </thead>\n",
       "  <tbody>\n",
       "    <tr>\n",
       "      <th>0</th>\n",
       "      <td>2012-01-01</td>\n",
       "      <td>Zone A</td>\n",
       "      <td>0</td>\n",
       "      <td>37489.3834</td>\n",
       "      <td>2028.4367</td>\n",
       "      <td>46.9499</td>\n",
       "      <td>45.8929</td>\n",
       "      <td>15.8448</td>\n",
       "      <td>0.0630</td>\n",
       "      <td>0.1187</td>\n",
       "      <td>18693.0</td>\n",
       "      <td>1</td>\n",
       "    </tr>\n",
       "    <tr>\n",
       "      <th>1</th>\n",
       "      <td>2012-01-02</td>\n",
       "      <td>Zone A</td>\n",
       "      <td>1</td>\n",
       "      <td>37489.4073</td>\n",
       "      <td>2028.4421</td>\n",
       "      <td>46.9491</td>\n",
       "      <td>45.8939</td>\n",
       "      <td>15.8445</td>\n",
       "      <td>0.0630</td>\n",
       "      <td>0.1187</td>\n",
       "      <td>18337.0</td>\n",
       "      <td>0</td>\n",
       "    </tr>\n",
       "    <tr>\n",
       "      <th>2</th>\n",
       "      <td>2012-01-03</td>\n",
       "      <td>Zone A</td>\n",
       "      <td>1</td>\n",
       "      <td>37489.4312</td>\n",
       "      <td>2028.4474</td>\n",
       "      <td>46.9483</td>\n",
       "      <td>45.8948</td>\n",
       "      <td>15.8442</td>\n",
       "      <td>0.0630</td>\n",
       "      <td>0.1187</td>\n",
       "      <td>18337.0</td>\n",
       "      <td>0</td>\n",
       "    </tr>\n",
       "    <tr>\n",
       "      <th>3</th>\n",
       "      <td>2012-01-04</td>\n",
       "      <td>Zone A</td>\n",
       "      <td>1</td>\n",
       "      <td>37489.4551</td>\n",
       "      <td>2028.4528</td>\n",
       "      <td>46.9475</td>\n",
       "      <td>45.8958</td>\n",
       "      <td>15.8439</td>\n",
       "      <td>0.0630</td>\n",
       "      <td>0.1187</td>\n",
       "      <td>18337.0</td>\n",
       "      <td>0</td>\n",
       "    </tr>\n",
       "    <tr>\n",
       "      <th>4</th>\n",
       "      <td>2012-01-05</td>\n",
       "      <td>Zone A</td>\n",
       "      <td>0</td>\n",
       "      <td>37489.4790</td>\n",
       "      <td>2028.4581</td>\n",
       "      <td>46.9468</td>\n",
       "      <td>45.8967</td>\n",
       "      <td>15.8436</td>\n",
       "      <td>0.0631</td>\n",
       "      <td>0.1188</td>\n",
       "      <td>17803.0</td>\n",
       "      <td>0</td>\n",
       "    </tr>\n",
       "    <tr>\n",
       "      <th>5</th>\n",
       "      <td>2012-01-06</td>\n",
       "      <td>Zone A</td>\n",
       "      <td>0</td>\n",
       "      <td>37489.5029</td>\n",
       "      <td>2028.4635</td>\n",
       "      <td>46.9460</td>\n",
       "      <td>45.8977</td>\n",
       "      <td>15.8433</td>\n",
       "      <td>0.0631</td>\n",
       "      <td>0.1188</td>\n",
       "      <td>17803.0</td>\n",
       "      <td>0</td>\n",
       "    </tr>\n",
       "    <tr>\n",
       "      <th>6</th>\n",
       "      <td>2012-01-07</td>\n",
       "      <td>Zone A</td>\n",
       "      <td>0</td>\n",
       "      <td>37489.5268</td>\n",
       "      <td>2028.4688</td>\n",
       "      <td>46.9452</td>\n",
       "      <td>45.8987</td>\n",
       "      <td>15.8430</td>\n",
       "      <td>0.0631</td>\n",
       "      <td>0.1188</td>\n",
       "      <td>18693.0</td>\n",
       "      <td>1</td>\n",
       "    </tr>\n",
       "    <tr>\n",
       "      <th>7</th>\n",
       "      <td>2012-01-08</td>\n",
       "      <td>Zone A</td>\n",
       "      <td>1</td>\n",
       "      <td>37489.5507</td>\n",
       "      <td>2028.4742</td>\n",
       "      <td>46.9445</td>\n",
       "      <td>45.8996</td>\n",
       "      <td>15.8427</td>\n",
       "      <td>0.0631</td>\n",
       "      <td>0.1188</td>\n",
       "      <td>19253.0</td>\n",
       "      <td>1</td>\n",
       "    </tr>\n",
       "    <tr>\n",
       "      <th>8</th>\n",
       "      <td>2012-01-09</td>\n",
       "      <td>Zone A</td>\n",
       "      <td>1</td>\n",
       "      <td>37489.5746</td>\n",
       "      <td>2028.4796</td>\n",
       "      <td>46.9437</td>\n",
       "      <td>45.9006</td>\n",
       "      <td>15.8424</td>\n",
       "      <td>0.0631</td>\n",
       "      <td>0.1188</td>\n",
       "      <td>18337.0</td>\n",
       "      <td>0</td>\n",
       "    </tr>\n",
       "    <tr>\n",
       "      <th>9</th>\n",
       "      <td>2012-01-10</td>\n",
       "      <td>Zone A</td>\n",
       "      <td>1</td>\n",
       "      <td>37489.5985</td>\n",
       "      <td>2028.4849</td>\n",
       "      <td>46.9429</td>\n",
       "      <td>45.9015</td>\n",
       "      <td>15.8420</td>\n",
       "      <td>0.0631</td>\n",
       "      <td>0.1188</td>\n",
       "      <td>18337.0</td>\n",
       "      <td>0</td>\n",
       "    </tr>\n",
       "  </tbody>\n",
       "</table>\n",
       "</div>"
      ],
      "text/plain": [
       "        Date Zone Name  Rainy Day  Population  Median Salary (EUR)  \\\n",
       "0 2012-01-01    Zone A          0  37489.3834            2028.4367   \n",
       "1 2012-01-02    Zone A          1  37489.4073            2028.4421   \n",
       "2 2012-01-03    Zone A          1  37489.4312            2028.4474   \n",
       "3 2012-01-04    Zone A          1  37489.4551            2028.4528   \n",
       "4 2012-01-05    Zone A          0  37489.4790            2028.4581   \n",
       "5 2012-01-06    Zone A          0  37489.5029            2028.4635   \n",
       "6 2012-01-07    Zone A          0  37489.5268            2028.4688   \n",
       "7 2012-01-08    Zone A          1  37489.5507            2028.4742   \n",
       "8 2012-01-09    Zone A          1  37489.5746            2028.4796   \n",
       "9 2012-01-10    Zone A          1  37489.5985            2028.4849   \n",
       "\n",
       "   Shops per 1k hab  Hospitals per 1M hab  \\\n",
       "0           46.9499               45.8929   \n",
       "1           46.9491               45.8939   \n",
       "2           46.9483               45.8948   \n",
       "3           46.9475               45.8958   \n",
       "4           46.9468               45.8967   \n",
       "5           46.9460               45.8977   \n",
       "6           46.9452               45.8987   \n",
       "7           46.9445               45.8996   \n",
       "8           46.9437               45.9006   \n",
       "9           46.9429               45.9015   \n",
       "\n",
       "   Childcare per 100 children under 3 y.o.  Public_Transport_Quality  \\\n",
       "0                                  15.8448                    0.0630   \n",
       "1                                  15.8445                    0.0630   \n",
       "2                                  15.8442                    0.0630   \n",
       "3                                  15.8439                    0.0630   \n",
       "4                                  15.8436                    0.0631   \n",
       "5                                  15.8433                    0.0631   \n",
       "6                                  15.8430                    0.0631   \n",
       "7                                  15.8427                    0.0631   \n",
       "8                                  15.8424                    0.0631   \n",
       "9                                  15.8420                    0.0631   \n",
       "\n",
       "   Infrastructure_Quality  Traffic  weekend  \n",
       "0                  0.1187  18693.0        1  \n",
       "1                  0.1187  18337.0        0  \n",
       "2                  0.1187  18337.0        0  \n",
       "3                  0.1187  18337.0        0  \n",
       "4                  0.1188  17803.0        0  \n",
       "5                  0.1188  17803.0        0  \n",
       "6                  0.1188  18693.0        1  \n",
       "7                  0.1188  19253.0        1  \n",
       "8                  0.1188  18337.0        0  \n",
       "9                  0.1188  18337.0        0  "
      ]
     },
     "metadata": {},
     "output_type": "display_data"
    }
   ],
   "source": [
    "preview_table(table_1)"
   ]
  },
  {
   "cell_type": "code",
   "execution_count": null,
   "id": "4606ba0899f18800",
   "metadata": {
    "collapsed": false,
    "jupyter": {
     "outputs_hidden": false
    }
   },
   "outputs": [],
   "source": []
  },
  {
   "cell_type": "code",
   "execution_count": null,
   "id": "83d9cc74ab2ebd9d",
   "metadata": {
    "collapsed": false,
    "jupyter": {
     "outputs_hidden": false
    }
   },
   "outputs": [],
   "source": []
  },
  {
   "cell_type": "code",
   "execution_count": null,
   "id": "8edb198a3d117f3e",
   "metadata": {
    "collapsed": false,
    "jupyter": {
     "outputs_hidden": false
    }
   },
   "outputs": [],
   "source": []
  },
  {
   "cell_type": "markdown",
   "id": "7bcd1ef9",
   "metadata": {},
   "source": [
    "# I. Data analysis"
   ]
  }
 ],
 "metadata": {
  "kernelspec": {
   "display_name": "Python 3 (ipykernel)",
   "language": "python",
   "name": "python3"
  },
  "language_info": {
   "codemirror_mode": {
    "name": "ipython",
    "version": 3
   },
   "file_extension": ".py",
   "mimetype": "text/x-python",
   "name": "python",
   "nbconvert_exporter": "python",
   "pygments_lexer": "ipython3",
   "version": "3.9.13"
  }
 },
 "nbformat": 4,
 "nbformat_minor": 5
}
